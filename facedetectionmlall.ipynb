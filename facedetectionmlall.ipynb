{
  "cells": [
    {
      "cell_type": "markdown",
      "metadata": {
        "id": "view-in-github",
        "colab_type": "text"
      },
      "source": [
        "<a href=\"https://colab.research.google.com/github/Bose786/csv-file/blob/main/facedetectionmlall.ipynb\" target=\"_parent\"><img src=\"https://colab.research.google.com/assets/colab-badge.svg\" alt=\"Open In Colab\"/></a>"
      ]
    },
    {
      "cell_type": "code",
      "execution_count": null,
      "id": "1a61a1a2",
      "metadata": {
        "id": "1a61a1a2"
      },
      "outputs": [],
      "source": [
        "import numpy as np\n",
        "import cv2"
      ]
    },
    {
      "cell_type": "code",
      "execution_count": null,
      "id": "0744e524",
      "metadata": {
        "id": "0744e524"
      },
      "outputs": [],
      "source": [
        "with_mask=np.load('no_mask.npy')\n",
        "without_mask=np.load('yes_mask.npy')\n"
      ]
    },
    {
      "cell_type": "code",
      "execution_count": null,
      "id": "74f7c16c",
      "metadata": {
        "id": "74f7c16c",
        "outputId": "02d8dc9e-2ec3-4389-a618-7955230d2bcf"
      },
      "outputs": [
        {
          "data": {
            "text/plain": [
              "(200, 50, 50, 3)"
            ]
          },
          "execution_count": 11,
          "metadata": {},
          "output_type": "execute_result"
        }
      ],
      "source": [
        "with_mask.shape"
      ]
    },
    {
      "cell_type": "code",
      "execution_count": null,
      "id": "469acdbf",
      "metadata": {
        "id": "469acdbf",
        "outputId": "7f1d7bde-3090-4076-d754-05cd246377df"
      },
      "outputs": [
        {
          "data": {
            "text/plain": [
              "(200, 50, 50, 3)"
            ]
          },
          "execution_count": 12,
          "metadata": {},
          "output_type": "execute_result"
        }
      ],
      "source": [
        "without_mask.shape"
      ]
    },
    {
      "cell_type": "code",
      "execution_count": null,
      "id": "619d07dd",
      "metadata": {
        "id": "619d07dd"
      },
      "outputs": [],
      "source": []
    },
    {
      "cell_type": "code",
      "execution_count": null,
      "id": "94a8eaf7",
      "metadata": {
        "id": "94a8eaf7"
      },
      "outputs": [],
      "source": [
        "with_mask = with_mask.reshape(200,50*50*3)\n",
        "without_mask = without_mask.reshape(200,50*50*3)\n"
      ]
    },
    {
      "cell_type": "code",
      "execution_count": null,
      "id": "d41e4896",
      "metadata": {
        "id": "d41e4896",
        "outputId": "b09b9999-2364-4155-9a25-9c9af70c6e87"
      },
      "outputs": [
        {
          "data": {
            "text/plain": [
              "(200, 7500)"
            ]
          },
          "execution_count": 15,
          "metadata": {},
          "output_type": "execute_result"
        }
      ],
      "source": [
        "with_mask.shape"
      ]
    },
    {
      "cell_type": "code",
      "execution_count": null,
      "id": "3bb26b71",
      "metadata": {
        "id": "3bb26b71",
        "outputId": "93d83bcb-33f9-4c31-f994-73ac842e7b33"
      },
      "outputs": [
        {
          "data": {
            "text/plain": [
              "(200, 7500)"
            ]
          },
          "execution_count": 16,
          "metadata": {},
          "output_type": "execute_result"
        }
      ],
      "source": [
        "without_mask.shape"
      ]
    },
    {
      "cell_type": "code",
      "execution_count": null,
      "id": "425c0a25",
      "metadata": {
        "id": "425c0a25"
      },
      "outputs": [],
      "source": [
        "X=np.r_[with_mask,without_mask]"
      ]
    },
    {
      "cell_type": "code",
      "execution_count": null,
      "id": "6265eb74",
      "metadata": {
        "id": "6265eb74",
        "outputId": "f66212b0-f428-4a79-f338-84f2867d591d"
      },
      "outputs": [
        {
          "data": {
            "text/plain": [
              "(400, 7500)"
            ]
          },
          "execution_count": 19,
          "metadata": {},
          "output_type": "execute_result"
        }
      ],
      "source": [
        "X.shape"
      ]
    },
    {
      "cell_type": "code",
      "execution_count": null,
      "id": "505917aa",
      "metadata": {
        "id": "505917aa"
      },
      "outputs": [],
      "source": [
        "labels=np.zeros(X.shape[0])"
      ]
    },
    {
      "cell_type": "code",
      "execution_count": null,
      "id": "e9485c4a",
      "metadata": {
        "id": "e9485c4a"
      },
      "outputs": [],
      "source": [
        "labels[200:]=1.0"
      ]
    },
    {
      "cell_type": "code",
      "execution_count": null,
      "id": "b7723775",
      "metadata": {
        "id": "b7723775"
      },
      "outputs": [],
      "source": [
        "name={0:'No Mask',1:'Mask'}"
      ]
    },
    {
      "cell_type": "code",
      "execution_count": null,
      "id": "d310a51a",
      "metadata": {
        "id": "d310a51a"
      },
      "outputs": [],
      "source": [
        "from sklearn.svm import SVC\n",
        "from sklearn.metrics import accuracy_score"
      ]
    },
    {
      "cell_type": "code",
      "execution_count": null,
      "id": "a509aaed",
      "metadata": {
        "id": "a509aaed"
      },
      "outputs": [],
      "source": [
        "from sklearn.model_selection import train_test_split"
      ]
    },
    {
      "cell_type": "code",
      "execution_count": null,
      "id": "11d4afde",
      "metadata": {
        "id": "11d4afde"
      },
      "outputs": [],
      "source": [
        "x_train,x_test,y_train,y_test=train_test_split(X,labels,test_size=0.25)"
      ]
    },
    {
      "cell_type": "code",
      "execution_count": null,
      "id": "ec2b007d",
      "metadata": {
        "id": "ec2b007d",
        "outputId": "4ff2864a-f3e0-4f8e-d373-cd234ea58903"
      },
      "outputs": [
        {
          "data": {
            "text/plain": [
              "(300, 7500)"
            ]
          },
          "execution_count": 35,
          "metadata": {},
          "output_type": "execute_result"
        }
      ],
      "source": [
        "x_train.shape"
      ]
    },
    {
      "cell_type": "code",
      "execution_count": null,
      "id": "35424062",
      "metadata": {
        "id": "35424062"
      },
      "outputs": [],
      "source": [
        "from sklearn.decomposition import PCA"
      ]
    },
    {
      "cell_type": "code",
      "execution_count": null,
      "id": "219bade7",
      "metadata": {
        "id": "219bade7"
      },
      "outputs": [],
      "source": [
        "pca=PCA(n_components=3)\n",
        "x_train=pca.fit_transform(x_train)"
      ]
    },
    {
      "cell_type": "code",
      "execution_count": null,
      "id": "58f9b427",
      "metadata": {
        "id": "58f9b427",
        "outputId": "72f096fb-b235-41ea-d702-16e87daedb47"
      },
      "outputs": [
        {
          "data": {
            "text/plain": [
              "array([-2554.33485159,   254.12068551,  -261.68028834])"
            ]
          },
          "execution_count": 29,
          "metadata": {},
          "output_type": "execute_result"
        }
      ],
      "source": [
        "x_train[0]"
      ]
    },
    {
      "cell_type": "code",
      "execution_count": null,
      "id": "bc200bb6",
      "metadata": {
        "id": "bc200bb6",
        "outputId": "e6cb10ab-b8b9-41ca-cd50-8c27e8e0b358"
      },
      "outputs": [
        {
          "data": {
            "text/plain": [
              "(300, 3)"
            ]
          },
          "execution_count": 30,
          "metadata": {},
          "output_type": "execute_result"
        }
      ],
      "source": [
        "x_train.shape"
      ]
    },
    {
      "cell_type": "code",
      "execution_count": null,
      "id": "205e7fdb",
      "metadata": {
        "id": "205e7fdb"
      },
      "outputs": [],
      "source": [
        "x_train,x_test,y_train,y_test=train_test_split(X,labels,test_size=0.25)"
      ]
    },
    {
      "cell_type": "code",
      "execution_count": null,
      "id": "bce8841d",
      "metadata": {
        "id": "bce8841d",
        "outputId": "a21b4be9-4253-49c1-bf71-23c49716edab"
      },
      "outputs": [
        {
          "data": {
            "text/plain": [
              "SVC()"
            ]
          },
          "execution_count": 37,
          "metadata": {},
          "output_type": "execute_result"
        }
      ],
      "source": [
        "svm = SVC()\n",
        "svm.fit(x_train,y_train)\n"
      ]
    },
    {
      "cell_type": "code",
      "execution_count": null,
      "id": "0382c90b",
      "metadata": {
        "id": "0382c90b"
      },
      "outputs": [],
      "source": [
        "#x_test = pca.transform(x_test)\n",
        "y_pred  = svm.predict(x_test)"
      ]
    },
    {
      "cell_type": "code",
      "execution_count": null,
      "id": "8f98d9f7",
      "metadata": {
        "id": "8f98d9f7",
        "outputId": "63e58db4-50a1-405f-9210-6f167eb6e01c"
      },
      "outputs": [
        {
          "data": {
            "text/plain": [
              "0.99"
            ]
          },
          "execution_count": 39,
          "metadata": {},
          "output_type": "execute_result"
        }
      ],
      "source": [
        "accuracy_score(y_test,y_pred)"
      ]
    },
    {
      "cell_type": "code",
      "execution_count": null,
      "id": "6ae6c324",
      "metadata": {
        "id": "6ae6c324",
        "outputId": "58402af7-23f2-4739-9893-c468df8d001f"
      },
      "outputs": [
        {
          "name": "stdout",
          "output_type": "stream",
          "text": [
            "No Mask\n",
            "No Mask\n",
            "No Mask\n",
            "No Mask\n",
            "No Mask\n",
            "No Mask\n",
            "No Mask\n",
            "No Mask\n",
            "No Mask\n",
            "No Mask\n",
            "No Mask\n",
            "No Mask\n",
            "No Mask\n",
            "No Mask\n",
            "No Mask\n",
            "No Mask\n",
            "No Mask\n",
            "No Mask\n",
            "No Mask\n",
            "No Mask\n",
            "No Mask\n",
            "No Mask\n",
            "No Mask\n",
            "No Mask\n",
            "No Mask\n",
            "No Mask\n",
            "No Mask\n",
            "No Mask\n",
            "No Mask\n",
            "No Mask\n",
            "No Mask\n",
            "No Mask\n",
            "No Mask\n",
            "No Mask\n",
            "No Mask\n",
            "No Mask\n",
            "No Mask\n",
            "No Mask\n",
            "No Mask\n",
            "No Mask\n",
            "No Mask\n",
            "No Mask\n",
            "No Mask\n",
            "No Mask\n",
            "No Mask\n",
            "No Mask\n",
            "No Mask\n",
            "No Mask\n",
            "No Mask\n",
            "No Mask\n",
            "No Mask\n",
            "No Mask\n",
            "No Mask\n",
            "No Mask\n",
            "No Mask\n",
            "No Mask\n",
            "No Mask\n",
            "No Mask\n",
            "No Mask\n",
            "No Mask\n",
            "No Mask\n",
            "No Mask\n",
            "No Mask\n",
            "No Mask\n",
            "No Mask\n",
            "No Mask\n",
            "No Mask\n",
            "No Mask\n",
            "No Mask\n",
            "No Mask\n",
            "No Mask\n",
            "No Mask\n",
            "No Mask\n",
            "No Mask\n",
            "No Mask\n",
            "No Mask\n",
            "No Mask\n",
            "No Mask\n",
            "No Mask\n",
            "No Mask\n",
            "No Mask\n",
            "No Mask\n",
            "No Mask\n",
            "No Mask\n",
            "No Mask\n",
            "No Mask\n",
            "No Mask\n",
            "No Mask\n",
            "No Mask\n",
            "No Mask\n",
            "No Mask\n",
            "No Mask\n",
            "No Mask\n",
            "No Mask\n",
            "No Mask\n",
            "No Mask\n",
            "No Mask\n",
            "No Mask\n",
            "No Mask\n",
            "No Mask\n",
            "No Mask\n",
            "No Mask\n",
            "No Mask\n",
            "No Mask\n",
            "No Mask\n",
            "No Mask\n",
            "No Mask\n",
            "No Mask\n",
            "No Mask\n",
            "No Mask\n",
            "No Mask\n",
            "No Mask\n",
            "No Mask\n",
            "No Mask\n",
            "No Mask\n",
            "No Mask\n",
            "No Mask\n",
            "No Mask\n",
            "No Mask\n",
            "No Mask\n",
            "No Mask\n",
            "No Mask\n",
            "No Mask\n",
            "No Mask\n",
            "No Mask\n",
            "No Mask\n",
            "No Mask\n",
            "No Mask\n",
            "No Mask\n",
            "No Mask\n",
            "No Mask\n",
            "No Mask\n",
            "No Mask\n",
            "No Mask\n",
            "No Mask\n",
            "No Mask\n",
            "No Mask\n",
            "No Mask\n",
            "No Mask\n",
            "No Mask\n",
            "No Mask\n",
            "No Mask\n",
            "No Mask\n",
            "No Mask\n",
            "No Mask\n",
            "No Mask\n",
            "No Mask\n",
            "No Mask\n",
            "No Mask\n",
            "No Mask\n",
            "No Mask\n",
            "No Mask\n",
            "No Mask\n",
            "No Mask\n",
            "No Mask\n",
            "No Mask\n",
            "No Mask\n",
            "No Mask\n",
            "No Mask\n",
            "No Mask\n",
            "No Mask\n",
            "No Mask\n",
            "No Mask\n",
            "No Mask\n",
            "No Mask\n",
            "No Mask\n",
            "No Mask\n",
            "No Mask\n",
            "No Mask\n",
            "No Mask\n",
            "No Mask\n",
            "No Mask\n",
            "No Mask\n",
            "No Mask\n",
            "No Mask\n",
            "No Mask\n",
            "No Mask\n",
            "No Mask\n",
            "No Mask\n",
            "No Mask\n",
            "No Mask\n",
            "No Mask\n",
            "No Mask\n",
            "No Mask\n",
            "No Mask\n",
            "No Mask\n",
            "No Mask\n",
            "No Mask\n",
            "No Mask\n",
            "No Mask\n",
            "No Mask\n",
            "No Mask\n",
            "No Mask\n",
            "No Mask\n",
            "No Mask\n",
            "No Mask\n",
            "No Mask\n",
            "No Mask\n",
            "No Mask\n",
            "No Mask\n",
            "No Mask\n",
            "No Mask\n",
            "No Mask\n",
            "No Mask\n",
            "No Mask\n",
            "No Mask\n",
            "No Mask\n",
            "No Mask\n",
            "No Mask\n",
            "No Mask\n",
            "No Mask\n",
            "No Mask\n",
            "No Mask\n",
            "No Mask\n",
            "No Mask\n",
            "No Mask\n",
            "No Mask\n",
            "No Mask\n",
            "No Mask\n",
            "No Mask\n",
            "No Mask\n",
            "No Mask\n",
            "No Mask\n",
            "No Mask\n",
            "No Mask\n",
            "No Mask\n",
            "No Mask\n",
            "No Mask\n",
            "No Mask\n",
            "No Mask\n",
            "No Mask\n",
            "No Mask\n",
            "No Mask\n",
            "No Mask\n",
            "No Mask\n",
            "No Mask\n",
            "No Mask\n",
            "No Mask\n",
            "No Mask\n",
            "No Mask\n",
            "No Mask\n",
            "No Mask\n",
            "No Mask\n",
            "No Mask\n",
            "No Mask\n",
            "No Mask\n",
            "No Mask\n",
            "No Mask\n",
            "No Mask\n",
            "No Mask\n",
            "No Mask\n",
            "No Mask\n",
            "No Mask\n",
            "No Mask\n",
            "No Mask\n",
            "No Mask\n",
            "No Mask\n",
            "No Mask\n",
            "No Mask\n",
            "No Mask\n",
            "No Mask\n",
            "No Mask\n",
            "No Mask\n",
            "No Mask\n",
            "No Mask\n",
            "No Mask\n",
            "No Mask\n",
            "No Mask\n",
            "No Mask\n",
            "No Mask\n",
            "No Mask\n",
            "No Mask\n",
            "No Mask\n",
            "No Mask\n",
            "No Mask\n",
            "No Mask\n",
            "No Mask\n",
            "No Mask\n",
            "No Mask\n",
            "No Mask\n",
            "No Mask\n",
            "No Mask\n",
            "No Mask\n",
            "No Mask\n",
            "No Mask\n",
            "No Mask\n",
            "No Mask\n",
            "No Mask\n",
            "Mask\n",
            "Mask\n",
            "Mask\n",
            "Mask\n",
            "Mask\n",
            "Mask\n",
            "Mask\n",
            "Mask\n",
            "Mask\n",
            "Mask\n",
            "Mask\n",
            "Mask\n",
            "Mask\n",
            "Mask\n",
            "Mask\n",
            "Mask\n",
            "Mask\n",
            "Mask\n",
            "Mask\n",
            "Mask\n",
            "Mask\n",
            "Mask\n",
            "Mask\n",
            "Mask\n",
            "Mask\n",
            "Mask\n",
            "Mask\n",
            "Mask\n",
            "Mask\n",
            "Mask\n",
            "Mask\n",
            "Mask\n",
            "Mask\n"
          ]
        }
      ],
      "source": [
        "haar_data=cv2.CascadeClassifier('data.xml')\n",
        "capture=cv2.VideoCapture(0)\n",
        "data = []\n",
        "font=cv2.FONT_HERSHEY_COMPLEX\n",
        "while True:\n",
        "    flag,img=capture.read()\n",
        "    if flag:\n",
        "        faces=haar_data.detectMultiScale(img)\n",
        "    for x,y,w,h in faces:\n",
        "        cv2.rectangle(img,(x,y),(x+w,y+h),(255,0,255),4)\n",
        "        face=img[y:y+h,x:x+w,:]\n",
        "        face=cv2.resize(face,(50,50))\n",
        "        face=face.reshape(1,-1)\n",
        "        #face=pca.transform(face)\n",
        "        pred=svm.predict(face)[0]\n",
        "        n=name[int(pred)]\n",
        "        cv2.putText(img,n,(x,y),font,1,(244,250,250),2)\n",
        "        print(n)\n",
        "           \n",
        "        cv2.imshow('result',img)\n",
        "    if cv2.waitKey(2)==27 :\n",
        "        break\n",
        "capture.release()\n",
        "cv2.destroyAllWindows()"
      ]
    },
    {
      "cell_type": "code",
      "execution_count": null,
      "id": "015398aa",
      "metadata": {
        "id": "015398aa"
      },
      "outputs": [],
      "source": []
    }
  ],
  "metadata": {
    "kernelspec": {
      "display_name": "Python 3 (ipykernel)",
      "language": "python",
      "name": "python3"
    },
    "language_info": {
      "codemirror_mode": {
        "name": "ipython",
        "version": 3
      },
      "file_extension": ".py",
      "mimetype": "text/x-python",
      "name": "python",
      "nbconvert_exporter": "python",
      "pygments_lexer": "ipython3",
      "version": "3.10.0"
    },
    "colab": {
      "provenance": [],
      "include_colab_link": true
    }
  },
  "nbformat": 4,
  "nbformat_minor": 5
}